{
 "cells": [
  {
   "cell_type": "markdown",
   "metadata": {},
   "source": [
    "<img src=\"https://gitlab.version.fz-juelich.de/grosch1/pvlink_demo_for_jupytercon/-/raw/JupyterCon2020/img/logo.png\"\n",
    "     style=\"float:right; width:25%; height:25%; margin-top:25px;\">\n",
    "\n",
    "# Jupyter for interactive in-situ visualization with ParaView/Catalyst\n",
    "\n",
    "[![Binder](https://mybinder.org/badge_logo.svg)](https://mybinder.org/v2/git/https%3A%2F%2Fgitlab.version.fz-juelich.de%2Fgrosch1%2Fpvlink_demo_for_jupytercon/JupyterCon2020)  \n",
    "Try out the *pvlink* extension and the example notebooks in binder."
   ]
  },
  {
   "cell_type": "markdown",
   "metadata": {},
   "source": [
    "# Minimal example"
   ]
  },
  {
   "cell_type": "code",
   "execution_count": 1,
   "metadata": {},
   "outputs": [],
   "source": [
    "import pvlink\n",
    "from paraview.simple import *\n",
    "from pvlink.utility import SetRecommendedRenderSettings, ResetCamera"
   ]
  },
  {
   "cell_type": "code",
   "execution_count": 4,
   "metadata": {},
   "outputs": [
    {
     "data": {
      "application/vnd.jupyter.widget-view+json": {
       "model_id": "41063a5b5274476cb4ef2bfc580c5cd5",
       "version_major": 2,
       "version_minor": 0
      },
      "text/plain": [
       "RemoteRenderer(authKey='afd24933b4abc600d381b4a99e07b7edfd1b5ab55731cef5', sessionURL='wss://jupyter-jsc.fz-ju…"
      ]
     },
     "metadata": {},
     "output_type": "display_data"
    }
   ],
   "source": [
    "# Create a RemoteRenderer to capture a ParaView RenderView\n",
    "renderer1 = pvlink.RemoteRenderer()\n",
    "\n",
    "# Paraview Pipeline\n",
    "# Create a RenderView\n",
    "renderView1 = CreateView('RenderView', 'view1')\n",
    "renderView1.Background = [0,0,0]\n",
    "SetRecommendedRenderSettings(renderView1)\n",
    "\n",
    "# Load and display data\n",
    "waveletElevation = XMLImageDataReader(FileName=['./data/waveletElevation.vti'])\n",
    "waveletElevationDisplay = Show(waveletElevation, renderView1)\n",
    "waveletElevationDisplay.SetRepresentationType('Volume')\n",
    "\n",
    "# Edit data display\n",
    "ColorBy(waveletElevationDisplay, ('POINTS', 'RDataWithElevation', 'Y'))\n",
    "rDataWithElevationLUT = GetColorTransferFunction('RDataWithElevation')\n",
    "rDataWithElevationLUT.ApplyPreset('Cool to Warm (Extended)', True)\n",
    "\n",
    "# Set pvlink renderer to show renderView1\n",
    "renderer1.viewID = renderView1.GetGlobalIDAsString()\n",
    "ResetCamera(renderView1, renderer1)\n",
    "display(renderer1)"
   ]
  },
  {
   "cell_type": "code",
   "execution_count": 3,
   "metadata": {
    "scrolled": true
   },
   "outputs": [
    {
     "data": {
      "application/vnd.jupyter.widget-view+json": {
       "model_id": "b2dd3f1af11746389fbfd728c020989d",
       "version_major": 2,
       "version_minor": 0
      },
      "text/plain": [
       "RemoteRenderer(authKey='wslink-secret', sessionURL='ws://localhost:1234/ws', viewID='577')"
      ]
     },
     "metadata": {},
     "output_type": "display_data"
    }
   ],
   "source": [
    "# Create a second RemoteRenderer to capture a second ParaView RenderView\n",
    "renderer2 = pvlink.RemoteRenderer(port=1234, authKey='wslink-secret')\n",
    "\n",
    "# Paraview Pipeline\n",
    "# Create a second RenderView\n",
    "renderView2 = CreateView('RenderView', 'view2')\n",
    "renderView2.Background = [0,0,0]\n",
    "renderView2.ShowAnnotation = 1\n",
    "SetRecommendedRenderSettings(renderView2)\n",
    "\n",
    "# Load and display data\n",
    "waveletMaterial = XMLImageDataReader(FileName=['./data/waveletMaterial.vti'])\n",
    "waveletMaterialDisplay = Show(waveletMaterial, renderView2)\n",
    "waveletMaterialDisplay.SetRepresentationType('Volume')\n",
    "\n",
    "# Edit data display\n",
    "materialLUT = GetColorTransferFunction('Material')\n",
    "materialLUT.ApplyPreset('Cool to Warm (Extended)', True)\n",
    "\n",
    "# Set secon dpvlink renderer to show renderView2\n",
    "renderer2.viewID = renderView2.GetGlobalIDAsString()\n",
    "ResetCamera(renderView2, renderer2)\n",
    "display(renderer2)"
   ]
  },
  {
   "cell_type": "code",
   "execution_count": null,
   "metadata": {},
   "outputs": [],
   "source": []
  }
 ],
 "metadata": {
  "kernelspec": {
   "display_name": "PyParaView-5.8",
   "language": "python",
   "name": "pyparaview-5.8"
  },
  "language_info": {
   "codemirror_mode": {
    "name": "ipython",
    "version": 3
   },
   "file_extension": ".py",
   "mimetype": "text/x-python",
   "name": "python",
   "nbconvert_exporter": "python",
   "pygments_lexer": "ipython3",
   "version": "3.6.8"
  }
 },
 "nbformat": 4,
 "nbformat_minor": 4
}

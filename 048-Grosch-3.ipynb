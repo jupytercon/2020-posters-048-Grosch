{
 "cells": [
  {
   "cell_type": "markdown",
   "metadata": {},
   "source": [
    "<img src=\"https://gitlab.version.fz-juelich.de/grosch1/pvlink_demo_for_jupytercon/-/raw/JupyterCon2020/img/logo.png\"\n",
    "     style=\"float:right; width:25%; height:25%; margin-top:25px;\">\n",
    "\n",
    "# Jupyter for interactive in-situ visualization with ParaView/Catalyst\n",
    "\n",
    "[![Binder](https://mybinder.org/badge_logo.svg)](https://mybinder.org/v2/git/https%3A%2F%2Fgitlab.version.fz-juelich.de%2Fgrosch1%2Fpvlink_demo_for_jupytercon/JupyterCon2020)  \n",
    "Try out the *pvlink* extension and the example notebooks in binder."
   ]
  },
  {
   "cell_type": "markdown",
   "metadata": {},
   "source": [
    "# Large dataset with a parallel `pvserver`"
   ]
  },
  {
   "cell_type": "markdown",
   "metadata": {},
   "source": [
    "Start a parallel ParaView server on the command line, for example via `$ mpirun -np <numberOfProc> ./pvserver`.\n",
    "\n",
    "In this example, 64 compute nodes were used for a dataset of approximatly 1.2TB.\n"
   ]
  },
  {
   "cell_type": "code",
   "execution_count": 1,
   "metadata": {},
   "outputs": [],
   "source": [
    "import ipywidgets as widgets\n",
    "import os\n",
    "import pvlink\n",
    "\n",
    "from paraview.simple import *"
   ]
  },
  {
   "cell_type": "markdown",
   "metadata": {},
   "source": [
    "## Setup pvlink renderer\n",
    "We are using *jupyter server proxy* to access our ParaViewWeb server since it is running on the HPC system."
   ]
  },
  {
   "cell_type": "code",
   "execution_count": 2,
   "metadata": {},
   "outputs": [],
   "source": [
    "renderer = pvlink.RemoteRenderer(\n",
    "    baseURL='jupyter-jsc.fz-juelich.de'+os.environ['JUPYTERHUB_SERVICE_PREFIX'], \n",
    "    disableExternalPort=True, useJupyterServerProxyHttps=True,\n",
    "    pvserverHost=\"localhost\", pvserverPort=11111,\n",
    "    timeout=\"0\"\n",
    ")"
   ]
  },
  {
   "cell_type": "markdown",
   "metadata": {},
   "source": [
    "## Setup paraview pipeline"
   ]
  },
  {
   "cell_type": "markdown",
   "metadata": {},
   "source": [
    "### Setup RenderView"
   ]
  },
  {
   "cell_type": "code",
   "execution_count": 3,
   "metadata": {},
   "outputs": [],
   "source": [
    "renderView = CreateView('RenderView', 'view')\n",
    "pvlink.utility.SetRecommendedRenderSettings(renderView)\n",
    "\n",
    "renderView.Background = [0, 0, 0]\n",
    "renderView.OrientationAxesVisibility = 0\n",
    "renderView.ShowAnnotation = 1"
   ]
  },
  {
   "cell_type": "markdown",
   "metadata": {},
   "source": [
    "### Read .xmf file"
   ]
  },
  {
   "cell_type": "code",
   "execution_count": 4,
   "metadata": {},
   "outputs": [],
   "source": [
    "box2xmf = XDMFReader(FileNames=['./visu/box2c.xmf'])\n",
    "box2xmf.GridStatus = ['Structured Grid']\n",
    "box2xmf.UpdatePipeline()"
   ]
  },
  {
   "cell_type": "code",
   "execution_count": 5,
   "metadata": {},
   "outputs": [],
   "source": [
    "# box2xmfDisplay = Show(box2xmf, renderView)\n",
    "# box2xmfDisplay.SetRepresentationType('Volume')"
   ]
  },
  {
   "cell_type": "code",
   "execution_count": 6,
   "metadata": {},
   "outputs": [],
   "source": [
    "# Hide(box2xmf, renderView)"
   ]
  },
  {
   "cell_type": "markdown",
   "metadata": {},
   "source": [
    "### Apply filters"
   ]
  },
  {
   "cell_type": "code",
   "execution_count": 7,
   "metadata": {},
   "outputs": [],
   "source": [
    "contour = Contour(Input=box2xmf)\n",
    "contour.Isosurfaces = [0.3]"
   ]
  },
  {
   "cell_type": "code",
   "execution_count": 8,
   "metadata": {},
   "outputs": [],
   "source": [
    "contourDisplay = Show(contour, renderView, 'GeometryRepresentation')\n",
    "contourDisplay.SetRepresentationType('Surface')\n",
    "contourDisplay.RescaleTransferFunctionToDataRange(True, False)\n",
    "contourDisplay.SetScalarBarVisibility(renderView, True);"
   ]
  },
  {
   "cell_type": "code",
   "execution_count": 9,
   "metadata": {},
   "outputs": [],
   "source": [
    "ColorBy(contourDisplay, ('POINTS', 'PS'))\n",
    "psLUT = GetColorTransferFunction('PS')\n",
    "psLUT.ApplyPreset('Blue Orange (divergent)', True);"
   ]
  },
  {
   "cell_type": "markdown",
   "metadata": {},
   "source": [
    "### Reset camera and focal point and display renderer"
   ]
  },
  {
   "cell_type": "code",
   "execution_count": 10,
   "metadata": {},
   "outputs": [],
   "source": [
    "pvlink.utility.ResetCamera(renderView, renderer)\n",
    "renderer.update_render()"
   ]
  },
  {
   "cell_type": "code",
   "execution_count": 16,
   "metadata": {},
   "outputs": [
    {
     "data": {
      "application/vnd.jupyter.widget-view+json": {
       "model_id": "9b848c6e88764ef3b4ee04b406a3e7a1",
       "version_major": 2,
       "version_minor": 0
      },
      "text/plain": [
       "Box(children=(RemoteRenderer(authKey='1da0ea24ad20daada608fc5de87325fb709b07fb8816cb7e', sessionURL='wss://jup…"
      ]
     },
     "metadata": {},
     "output_type": "display_data"
    }
   ],
   "source": [
    "renderContainer = widgets.Box(children=[renderer], layout={'height': '800px'})\n",
    "display(renderContainer)"
   ]
  },
  {
   "cell_type": "markdown",
   "metadata": {},
   "source": [
    "## Print memory usage information"
   ]
  },
  {
   "cell_type": "code",
   "execution_count": 12,
   "metadata": {},
   "outputs": [],
   "source": [
    "dataInfo = box2xmf.GetDataInformation()\n",
    "\n",
    "memory_size = dataInfo.DataInformation.GetMemorySize()\n",
    "number_points = dataInfo.DataInformation.GetNumberOfPoints()\n",
    "number_cells = dataInfo.DataInformation.GetNumberOfCells()"
   ]
  },
  {
   "cell_type": "code",
   "execution_count": 13,
   "metadata": {},
   "outputs": [],
   "source": [
    "from paraview import benchmark\n",
    "memuse = benchmark.logbase.get_memuse()"
   ]
  },
  {
   "cell_type": "code",
   "execution_count": 14,
   "metadata": {},
   "outputs": [
    {
     "name": "stdout",
     "output_type": "stream",
     "text": [
      "Number of points:\t 77976270099\n",
      "Number of cells:\t 77629109375\n",
      "Memory size:\t\t 1218379428\n"
     ]
    }
   ],
   "source": [
    "print(\"Number of points:\\t\", number_points)\n",
    "print(\"Number of cells:\\t\", number_cells)\n",
    "print(\"Memory size:\\t\\t\", memory_size)"
   ]
  },
  {
   "cell_type": "code",
   "execution_count": 15,
   "metadata": {},
   "outputs": [
    {
     "name": "stdout",
     "output_type": "stream",
     "text": [
      "CL[0] 252244 / 52058712\n",
      "DS_RS[0] 9798604 / 52058712\n",
      "DS_RS[1] 9676520 / 52058712\n",
      "DS_RS[2] 9675744 / 52058712\n",
      "DS_RS[3] 9698376 / 52058712\n",
      "DS_RS[4] 9674232 / 51420436\n",
      "DS_RS[5] 9698396 / 51420436\n",
      "DS_RS[6] 9698368 / 51420420\n",
      "DS_RS[7] 9720144 / 51420420\n",
      "DS_RS[8] 9677052 / 49780008\n",
      "DS_RS[9] 9698408 / 49780008\n",
      "DS_RS[10] 9698244 / 49780008\n",
      "DS_RS[11] 9720116 / 49780008\n",
      "DS_RS[12] 9677580 / 52932288\n",
      "DS_RS[13] 9698372 / 52932288\n",
      "DS_RS[14] 10184256 / 52932288\n",
      "DS_RS[15] 9720208 / 52932288\n",
      "DS_RS[16] 9675208 / 51310944\n",
      "DS_RS[17] 9698412 / 51310944\n",
      "DS_RS[18] 9698252 / 51310944\n",
      "DS_RS[19] 9720132 / 51310944\n",
      "DS_RS[20] 9676176 / 50058232\n",
      "DS_RS[21] 9698400 / 50058232\n",
      "DS_RS[22] 9698252 / 50058232\n",
      "DS_RS[23] 9720176 / 50058232\n",
      "DS_RS[24] 9698896 / 51642404\n",
      "DS_RS[25] 9719724 / 51642404\n",
      "DS_RS[26] 9694356 / 51642404\n",
      "DS_RS[27] 9717364 / 51642404\n",
      "DS_RS[28] 9696288 / 49589292\n",
      "DS_RS[29] 9717012 / 49589292\n",
      "DS_RS[30] 9698384 / 49589292\n",
      "DS_RS[31] 9720068 / 49589292\n",
      "DS_RS[32] 9674236 / 51590984\n",
      "DS_RS[33] 9697320 / 51590984\n",
      "DS_RS[34] 9695640 / 51590984\n",
      "DS_RS[35] 9720200 / 51590984\n",
      "DS_RS[36] 9669292 / 51414880\n",
      "DS_RS[37] 9690744 / 51414880\n",
      "DS_RS[38] 9690856 / 51414880\n",
      "DS_RS[39] 9712580 / 51414880\n",
      "DS_RS[40] 9698872 / 51644772\n",
      "DS_RS[41] 9721652 / 51644772\n",
      "DS_RS[42] 9698368 / 51644772\n",
      "DS_RS[43] 9720204 / 51644772\n",
      "DS_RS[44] 9691768 / 51275920\n",
      "DS_RS[45] 9712468 / 51275920\n",
      "DS_RS[46] 9691184 / 51275920\n",
      "DS_RS[47] 9713080 / 51275920\n",
      "DS_RS[48] 9698792 / 49737408\n",
      "DS_RS[49] 9719596 / 49737408\n",
      "DS_RS[50] 9695728 / 49737408\n",
      "DS_RS[51] 9720204 / 49737408\n",
      "DS_RS[52] 9691736 / 49641216\n",
      "DS_RS[53] 9709584 / 49641216\n",
      "DS_RS[54] 9690940 / 49641216\n",
      "DS_RS[55] 9713032 / 49641216\n",
      "DS_RS[56] 9717404 / 49663596\n",
      "DS_RS[57] 9719620 / 49663596\n",
      "DS_RS[58] 9719616 / 49663596\n",
      "DS_RS[59] 9720208 / 49663596\n",
      "DS_RS[60] 9713104 / 51323968\n",
      "DS_RS[61] 9712532 / 51323968\n",
      "DS_RS[62] 9712552 / 51323968\n",
      "DS_RS[63] 9712944 / 51323968\n",
      "DS_RS[64] 9672880 / 51159524\n",
      "DS_RS[65] 9698396 / 51159524\n",
      "DS_RS[66] 9698324 / 51159524\n",
      "DS_RS[67] 9720192 / 51159524\n",
      "DS_RS[68] 9677648 / 51810388\n",
      "DS_RS[69] 9698304 / 51810388\n",
      "DS_RS[70] 9698244 / 51810388\n",
      "DS_RS[71] 9720100 / 51810388\n",
      "DS_RS[72] 9698928 / 51732124\n",
      "DS_RS[73] 9719588 / 51732124\n",
      "DS_RS[74] 9698388 / 51732124\n",
      "DS_RS[75] 9720108 / 51732124\n",
      "DS_RS[76] 9698844 / 51468060\n",
      "DS_RS[77] 9716976 / 51468060\n",
      "DS_RS[78] 9698264 / 51468060\n",
      "DS_RS[79] 9720196 / 51468060\n",
      "DS_RS[80] 9698884 / 51033504\n",
      "DS_RS[81] 9719728 / 51033504\n",
      "DS_RS[82] 9698376 / 51033504\n",
      "DS_RS[83] 9720200 / 51033504\n",
      "DS_RS[84] 9691768 / 51860072\n",
      "DS_RS[85] 9710932 / 51860072\n",
      "DS_RS[86] 9689360 / 51860072\n",
      "DS_RS[87] 9713036 / 51860072\n",
      "DS_RS[88] 9720236 / 51843416\n",
      "DS_RS[89] 9719720 / 51843416\n",
      "DS_RS[90] 9719712 / 51843416\n",
      "DS_RS[91] 9720080 / 51843416\n",
      "DS_RS[92] 9713016 / 48787168\n",
      "DS_RS[93] 9710848 / 48787168\n",
      "DS_RS[94] 9712500 / 48787168\n",
      "DS_RS[95] 9713080 / 48787168\n",
      "DS_RS[96] 9677500 / 48855676\n",
      "DS_RS[97] 9698372 / 48855676\n",
      "DS_RS[98] 9698340 / 48855676\n",
      "DS_RS[99] 9718912 / 48855676\n",
      "DS_RS[100] 9670576 / 49831920\n",
      "DS_RS[101] 9691232 / 49831920\n",
      "DS_RS[102] 9689340 / 49831920\n",
      "DS_RS[103] 9713028 / 49831920\n",
      "DS_RS[104] 9698844 / 49828244\n",
      "DS_RS[105] 9719536 / 49828244\n",
      "DS_RS[106] 9691128 / 49828244\n",
      "DS_RS[107] 9711152 / 49828244\n",
      "DS_RS[108] 9698784 / 51216260\n",
      "DS_RS[109] 9719548 / 51216260\n",
      "DS_RS[110] 9691236 / 51216260\n",
      "DS_RS[111] 9712912 / 51216260\n",
      "DS_RS[112] 9698804 / 51298720\n",
      "DS_RS[113] 9719716 / 51298720\n",
      "DS_RS[114] 9691280 / 51298720\n",
      "DS_RS[115] 9713080 / 51298720\n",
      "DS_RS[116] 9691680 / 48907260\n",
      "DS_RS[117] 9708536 / 48907260\n",
      "DS_RS[118] 9684196 / 48907260\n",
      "DS_RS[119] 9704272 / 48907260\n",
      "DS_RS[120] 9718600 / 49117340\n",
      "DS_RS[121] 9711960 / 49117340\n",
      "DS_RS[122] 9719612 / 49117340\n",
      "DS_RS[123] 9713084 / 49117340\n",
      "DS_RS[124] 9713076 / 48831116\n",
      "DS_RS[125] 9705408 / 48831116\n",
      "DS_RS[126] 9712460 / 48831116\n",
      "DS_RS[127] 9705860 / 48831116\n",
      "DS_RS[128] 9676884 / 50678972\n",
      "DS_RS[129] 9698224 / 50678972\n",
      "DS_RS[130] 9698328 / 50678972\n",
      "DS_RS[131] 9720160 / 50678972\n",
      "DS_RS[132] 9677420 / 51381432\n",
      "DS_RS[133] 9698264 / 51381432\n",
      "DS_RS[134] 9698276 / 51381432\n",
      "DS_RS[135] 9720020 / 51381432\n",
      "DS_RS[136] 9698736 / 51225928\n",
      "DS_RS[137] 9719544 / 51225928\n",
      "DS_RS[138] 9698232 / 51225928\n",
      "DS_RS[139] 9720144 / 51225928\n",
      "DS_RS[140] 9698872 / 51284324\n",
      "DS_RS[141] 9719628 / 51284324\n",
      "DS_RS[142] 9698204 / 51284324\n",
      "DS_RS[143] 9720152 / 51284324\n",
      "DS_RS[144] 9698776 / 50828104\n",
      "DS_RS[145] 9719588 / 50828104\n",
      "DS_RS[146] 9698244 / 50828104\n",
      "DS_RS[147] 9720100 / 50828104\n",
      "DS_RS[148] 9691396 / 49845004\n",
      "DS_RS[149] 9712592 / 49845004\n",
      "DS_RS[150] 9689492 / 49845004\n",
      "DS_RS[151] 9712968 / 49845004\n",
      "DS_RS[152] 9720144 / 51092756\n",
      "DS_RS[153] 9719624 / 51092756\n",
      "DS_RS[154] 9719644 / 51092756\n",
      "DS_RS[155] 9718448 / 51092756\n",
      "DS_RS[156] 9713048 / 51037760\n",
      "DS_RS[157] 9712272 / 51037760\n",
      "DS_RS[158] 9712520 / 51037760\n",
      "DS_RS[159] 9713080 / 51037760\n",
      "DS_RS[160] 9677612 / 51089532\n",
      "DS_RS[161] 9698364 / 51089532\n",
      "DS_RS[162] 9695624 / 51089532\n",
      "DS_RS[163] 9720140 / 51089532\n",
      "DS_RS[164] 9670500 / 48790088\n",
      "DS_RS[165] 9691208 / 48790088\n",
      "DS_RS[166] 9691220 / 48790088\n",
      "DS_RS[167] 9713116 / 48790088\n",
      "DS_RS[168] 9698808 / 48594688\n",
      "DS_RS[169] 9716916 / 48594688\n",
      "DS_RS[170] 9698248 / 48594688\n",
      "DS_RS[171] 9720060 / 48594688\n",
      "DS_RS[172] 9691672 / 50636688\n",
      "DS_RS[173] 9709812 / 50636688\n",
      "DS_RS[174] 9691236 / 50636688\n",
      "DS_RS[175] 9713044 / 50636688\n",
      "DS_RS[176] 9698924 / 50641724\n",
      "DS_RS[177] 9719672 / 50641724\n",
      "DS_RS[178] 9691148 / 50641724\n",
      "DS_RS[179] 9713084 / 50641724\n",
      "DS_RS[180] 9691624 / 50718188\n",
      "DS_RS[181] 9712604 / 50718188\n",
      "DS_RS[182] 9683772 / 50718188\n",
      "DS_RS[183] 9705944 / 50718188\n",
      "DS_RS[184] 9717532 / 50789876\n",
      "DS_RS[185] 9719616 / 50789876\n",
      "DS_RS[186] 9710864 / 50789876\n",
      "DS_RS[187] 9713076 / 50789876\n",
      "DS_RS[188] 9713056 / 51567720\n",
      "DS_RS[189] 9712428 / 51567720\n",
      "DS_RS[190] 9705416 / 51567720\n",
      "DS_RS[191] 9705932 / 51567720\n",
      "DS_RS[192] 9696144 / 50879132\n",
      "DS_RS[193] 9719580 / 50879132\n",
      "DS_RS[194] 9698316 / 50879132\n",
      "DS_RS[195] 9720188 / 50879132\n",
      "DS_RS[196] 9698836 / 50921564\n",
      "DS_RS[197] 9719644 / 50921564\n",
      "DS_RS[198] 9698328 / 50921564\n",
      "DS_RS[199] 9720088 / 50921564\n",
      "DS_RS[200] 9720240 / 51132636\n",
      "DS_RS[201] 9718224 / 51132636\n",
      "DS_RS[202] 9718364 / 51132636\n",
      "DS_RS[203] 9720080 / 51132636\n",
      "DS_RS[204] 9713048 / 51120284\n",
      "DS_RS[205] 9712084 / 51120284\n",
      "DS_RS[206] 9712548 / 51120284\n",
      "DS_RS[207] 9711052 / 51120284\n",
      "DS_RS[208] 9694848 / 51034020\n",
      "DS_RS[209] 9716972 / 51034020\n",
      "DS_RS[210] 9691272 / 51034020\n",
      "DS_RS[211] 9712964 / 51034020\n",
      "DS_RS[212] 9698800 / 50889524\n",
      "DS_RS[213] 9719720 / 50889524\n",
      "DS_RS[214] 9688496 / 50889524\n",
      "DS_RS[215] 9713064 / 50889524\n",
      "DS_RS[216] 9720192 / 50753808\n",
      "DS_RS[217] 9712608 / 50753808\n",
      "DS_RS[218] 9716992 / 50753808\n",
      "DS_RS[219] 9713068 / 50753808\n",
      "DS_RS[220] 9710132 / 50826220\n",
      "DS_RS[221] 9705480 / 50826220\n",
      "DS_RS[222] 9712432 / 50826220\n",
      "DS_RS[223] 9705868 / 50826220\n",
      "DS_RS[224] 9698164 / 50808660\n",
      "DS_RS[225] 9718752 / 50808660\n",
      "DS_RS[226] 9698192 / 50808660\n",
      "DS_RS[227] 9718376 / 50808660\n",
      "DS_RS[228] 9691588 / 51107600\n",
      "DS_RS[229] 9712548 / 51107600\n",
      "DS_RS[230] 9691088 / 51107600\n",
      "DS_RS[231] 9713036 / 51107600\n",
      "DS_RS[232] 9720056 / 50889936\n",
      "DS_RS[233] 9718840 / 50889936\n",
      "DS_RS[234] 9712396 / 50889936\n",
      "DS_RS[235] 9713032 / 50889936\n",
      "DS_RS[236] 9713040 / 50851668\n",
      "DS_RS[237] 9712536 / 50851668\n",
      "DS_RS[238] 9705040 / 50851668\n",
      "DS_RS[239] 9703748 / 50851668\n",
      "DS_RS[240] 9698196 / 50812000\n",
      "DS_RS[241] 9719600 / 50812000\n",
      "DS_RS[242] 9691052 / 50812000\n",
      "DS_RS[243] 9712932 / 50812000\n",
      "DS_RS[244] 9691684 / 50970684\n",
      "DS_RS[245] 9712556 / 50970684\n",
      "DS_RS[246] 9684000 / 50970684\n",
      "DS_RS[247] 9705808 / 50970684\n",
      "DS_RS[248] 9716764 / 51058112\n",
      "DS_RS[249] 9710644 / 51058112\n",
      "DS_RS[250] 9712504 / 51058112\n",
      "DS_RS[251] 9705808 / 51058112\n",
      "DS_RS[252] 9712396 / 51180408\n",
      "DS_RS[253] 9705380 / 51180408\n",
      "DS_RS[254] 9704824 / 51180408\n",
      "DS_RS[255] 9695424 / 51180408\n"
     ]
    }
   ],
   "source": [
    "for use in memuse:\n",
    "    print(use)"
   ]
  },
  {
   "cell_type": "code",
   "execution_count": null,
   "metadata": {},
   "outputs": [],
   "source": []
  },
  {
   "cell_type": "code",
   "execution_count": null,
   "metadata": {},
   "outputs": [],
   "source": [
    "# Disconnect()"
   ]
  }
 ],
 "metadata": {
  "kernelspec": {
   "display_name": "PyParaView-5.8",
   "language": "python",
   "name": "pyparaview-5.8"
  },
  "language_info": {
   "codemirror_mode": {
    "name": "ipython",
    "version": 3
   },
   "file_extension": ".py",
   "mimetype": "text/x-python",
   "name": "python",
   "nbconvert_exporter": "python",
   "pygments_lexer": "ipython3",
   "version": "3.6.8"
  }
 },
 "nbformat": 4,
 "nbformat_minor": 4
}
